{
 "cells": [
  {
   "cell_type": "code",
   "execution_count": 1,
   "id": "0729a1f5",
   "metadata": {},
   "outputs": [],
   "source": [
    "base_url = \"https://serpapi.com/search?engine=google_patents\""
   ]
  },
  {
   "cell_type": "code",
   "execution_count": 3,
   "id": "cd92b29a",
   "metadata": {},
   "outputs": [],
   "source": [
    "from dotenv import load_dotenv\n",
    "import os \n",
    "\n",
    "load_dotenv()\n",
    "api_key = os.getenv(\"SERP_API_KEY\")"
   ]
  },
  {
   "cell_type": "code",
   "execution_count": null,
   "id": "178ce69e",
   "metadata": {},
   "outputs": [],
   "source": [
    "query =\"Lithim battery\"\n",
    "\n",
    "url = f\"https://serpapi.com/search?engine=google_patents&q={query}&api_key={api_key}\""
   ]
  }
 ],
 "metadata": {
  "kernelspec": {
   "display_name": "Egen",
   "language": "python",
   "name": "python3"
  },
  "language_info": {
   "codemirror_mode": {
    "name": "ipython",
    "version": 3
   },
   "file_extension": ".py",
   "mimetype": "text/x-python",
   "name": "python",
   "nbconvert_exporter": "python",
   "pygments_lexer": "ipython3",
   "version": "3.11.13"
  }
 },
 "nbformat": 4,
 "nbformat_minor": 5
}
