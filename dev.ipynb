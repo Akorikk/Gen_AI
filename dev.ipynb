{
 "cells": [
  {
   "cell_type": "code",
   "execution_count": 53,
   "id": "0729a1f5",
   "metadata": {},
   "outputs": [],
   "source": [
    "base_url = \"https://serpapi.com/search?engine=google_patents\""
   ]
  },
  {
   "cell_type": "code",
   "execution_count": 54,
   "id": "cd92b29a",
   "metadata": {},
   "outputs": [],
   "source": [
    "from dotenv import load_dotenv\n",
    "import os \n",
    "\n",
    "load_dotenv()\n",
    "api_key = os.getenv(\"SERP_API_KEY\")"
   ]
  },
  {
   "cell_type": "code",
   "execution_count": 55,
   "id": "178ce69e",
   "metadata": {},
   "outputs": [],
   "source": [
    "query =\"Lithim battery\"\n",
    "\n",
    "url = f\"https://serpapi.com/search?engine=google_patents&q={query}&api_key={api_key}\""
   ]
  },
  {
   "cell_type": "code",
   "execution_count": 56,
   "id": "4c1ce777",
   "metadata": {},
   "outputs": [],
   "source": [
    "import requests \n",
    "import json\n",
    "\n",
    "response = requests.get(url)\n",
    "if response.status_code == 200:\n",
    "    data = response.json()\n",
    "    \n",
    "    patent = data.get(\"organic_results\")\n",
    "\n",
    "    with open(\"file/patent.json\", \"w\") as file:\n",
    "        json.dump(patent, file, indent=4)"
   ]
  },
  {
   "cell_type": "code",
   "execution_count": null,
   "id": "28d31996",
   "metadata": {},
   "outputs": [],
   "source": [
    "patent_url=\"https://serpapi.com/search.json?engine=google_patents_details&patent_id=patent%2FCN111181207B%2Fen&api_key=\"+ api_key\n",
    "\n",
    "patents_response = requests.get(patent_url)\n",
    "if patents_response.status_code == 200:\n",
    "    patent_data = patents_response.json()\n",
    "\n",
    "    with open(\"file/patent_details.json\", \"w\") as file:\n",
    "        json.dump(patent_data, file, indent=4)"
   ]
  },
  {
   "cell_type": "code",
   "execution_count": 50,
   "id": "6e4537c4",
   "metadata": {},
   "outputs": [
    {
     "name": "stdout",
     "output_type": "stream",
     "text": [
      "🔑 API Key: 3bd86f4993e5279b99d6d6bfe103e4231d899fdf5d1b60e1c23403f229b7266e\n",
      "📡 Full URL: https://serpapi.com/search.json?engine=google_patents_details&patent_id=patent%2FCN111181207B%2Fen&api_key=3bd86f4993e5279b99d6d6bfe103e4231d899fdf5d1b60e1c23403f229b7266e\n"
     ]
    }
   ],
   "source": [
    "print(\"🔑 API Key:\", api_key)\n",
    "print(\"📡 Full URL:\", patent_url)"
   ]
  },
  {
   "cell_type": "code",
   "execution_count": 58,
   "id": "99629716",
   "metadata": {},
   "outputs": [
    {
     "name": "stdout",
     "output_type": "stream",
     "text": [
      "📡 Requesting: https://serpapi.com/search.json?engine=google_patents_details&patent_id=patent%2FCN111181207B%2Fen&api_key=3bd86f4993e5279b99d6d6bfe103e4231d899fdf5d1b60e1c23403f229b7266e\n",
      "📦 Status code: 401\n",
      "❌ Failed to fetch patent details\n",
      "🔍 Response Text: {\n",
      "  \"error\": \"Invalid API key. Your API key should be here: https://serpapi.com/manage-api-key\"\n",
      "}\n"
     ]
    }
   ],
   "source": [
    "import os\n",
    "import requests\n",
    "import json\n",
    "from dotenv import load_dotenv\n",
    "\n",
    "# Load .env\n",
    "load_dotenv()\n",
    "api_key = os.getenv(\"SERP_API_KEY\")\n",
    "\n",
    "# Validate API key\n",
    "if not api_key:\n",
    "    raise ValueError(\"❌ SERP_API_KEY not found in .env file\")\n",
    "\n",
    "# Make sure the directory exists\n",
    "os.makedirs(\"FILE\", exist_ok=True)\n",
    "\n",
    "# Paste the URL from your JSON + add the API key\n",
    "serpapi_link_base = \"https://serpapi.com/search.json?engine=google_patents_details&patent_id=patent%2FCN111181207B%2Fen\"\n",
    "patent_url = serpapi_link_base + f\"&api_key={api_key}\"\n",
    "\n",
    "print(\"📡 Requesting:\", patent_url)\n",
    "\n",
    "# Send request\n",
    "response = requests.get(patent_url)\n",
    "print(\"📦 Status code:\", response.status_code)\n",
    "\n",
    "# Handle response\n",
    "if response.status_code == 200:\n",
    "    patent_data = response.json()\n",
    "    with open(\"file/patent_details.json\", \"w\") as file:\n",
    "        json.dump(patent_data, file, indent=4)\n",
    "    print(\"✅ Saved patent details to file/patent_details.json\")\n",
    "else:\n",
    "    print(\"❌ Failed to fetch patent details\")\n",
    "    print(\"🔍 Response Text:\", response.text)\n"
   ]
  },
  {
   "cell_type": "code",
   "execution_count": 59,
   "id": "3373b4bc",
   "metadata": {},
   "outputs": [
    {
     "name": "stdout",
     "output_type": "stream",
     "text": [
      "API key loaded: 3bd86f4993e5279b99d6d6bfe103e4231d899fdf5d1b60e1c23403f229b7266e\n"
     ]
    }
   ],
   "source": [
    "from dotenv import load_dotenv\n",
    "import os\n",
    "\n",
    "load_dotenv()\n",
    "print(\"API key loaded:\", os.getenv(\"SERP_API_KEY\"))\n"
   ]
  },
  {
   "cell_type": "markdown",
   "id": "39604093",
   "metadata": {},
   "source": []
  }
 ],
 "metadata": {
  "kernelspec": {
   "display_name": "Egen",
   "language": "python",
   "name": "python3"
  },
  "language_info": {
   "codemirror_mode": {
    "name": "ipython",
    "version": 3
   },
   "file_extension": ".py",
   "mimetype": "text/x-python",
   "name": "python",
   "nbconvert_exporter": "python",
   "pygments_lexer": "ipython3",
   "version": "3.11.13"
  }
 },
 "nbformat": 4,
 "nbformat_minor": 5
}
